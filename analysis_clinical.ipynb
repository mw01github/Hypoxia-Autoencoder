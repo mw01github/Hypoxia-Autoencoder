{
 "cells": [
  {
   "cell_type": "code",
   "execution_count": 357,
   "metadata": {},
   "outputs": [],
   "source": [
    "import pandas as pd\n",
    "\n",
    "df1 = pd.read_csv('clinical.cart.2024-02-01/clinical.tsv', sep='\\t')\n",
    "df2 = pd.read_csv('clinical.cart.2024-02-01/exposure.tsv', sep='\\t')\n",
    "\n",
    "df1 = df1.iloc[::2] #every alternate rows are duplicates\n",
    "df1 = df1.drop(904) #patient with most data missing\n",
    "df2 = df2.drop(452)\n",
    "df1 = df1.reset_index(drop=True)\n",
    "df2 = df2.reset_index(drop=True)\n",
    "df1 = df1.drop(columns=df1.columns[df1.nunique() == 1]) #delete non-unique\n",
    "df1 = df1.drop(columns=['case_id',\n",
    "                        'case_submitter_id',\n",
    "                        'age_at_index', #same info as days to birth\n",
    "                        'days_to_death', #too many nulls, gives data on dead/alive\n",
    "                        'year_of_death', #gives data on d/a\n",
    "                        'year_of_birth', #gives data on d/a\n",
    "                        'days_to_last_follow_up', #gives data on d/a\n",
    "                        'year_of_diagnosis', #gives data on d/a\n",
    "                        'age_at_diagnosis' #same data as days to birth\n",
    "                        ])\n",
    "\n",
    "df1['alcohol_history'] = df2['alcohol_history']\n",
    "\n",
    "for i in df1.columns:\n",
    "    if i in ['days_to_birth', 'gender', 'vital_status', 'prior_malignancy', 'prior_treatment']:\n",
    "        continue\n",
    "    df1 = pd.concat([df1, pd.get_dummies(df1[i])], axis=1)\n",
    "    df1 = df1.drop(i, axis=1)\n",
    "\n",
    "df1['gender'] = df1['gender'].map({'male': True, 'female': False})\n",
    "df1['prior_malignancy'] = df1['prior_malignancy'].map({'yes': True, 'no': False})\n",
    "df1['prior_treatment'] = df1['prior_treatment'].map({'Yes': True, 'No': False})\n",
    "df1['vital_status'] = df1['vital_status'].map({'Alive': True, 'Dead': False})\n",
    "df1['days_to_birth'] = pd.to_numeric(df1['days_to_birth'].str[1:])\n",
    "\n",
    "df1['cigarettes_per_day_is_null'] = df2['cigarettes_per_day'] == \"'--\"\n",
    "df1['cigarettes_per_day'] = pd.to_numeric(df2['cigarettes_per_day'], errors='coerce', downcast='integer').fillna(-1)\n",
    "df1['pack_years_smoked_is_null'] = df2['pack_years_smoked'] == \"'--\"\n",
    "df1['pack_years_smoked'] = pd.to_numeric(df2['pack_years_smoked'], errors='coerce', downcast='integer').fillna(-1)\n",
    "df1['years_smoked_is_null'] = df2['years_smoked'] == \"'--\"\n",
    "df1['years_smoked'] = pd.to_numeric(df2['years_smoked'], errors='coerce', downcast='integer').fillna(-1)"
   ]
  },
  {
   "cell_type": "code",
   "execution_count": 375,
   "metadata": {},
   "outputs": [
    {
     "name": "stdout",
     "output_type": "stream",
     "text": [
      "Accuracy: 0.660377358490566\n"
     ]
    }
   ],
   "source": [
    "from sklearn.model_selection import train_test_split\n",
    "from sklearn.ensemble import RandomForestClassifier\n",
    "from sklearn.metrics import accuracy_score\n",
    "\n",
    "X = df1.drop('vital_status', axis=1)\n",
    "y = df1['vital_status']\n",
    "\n",
    "X_train, X_test, y_train, y_test = train_test_split(X, y, test_size=0.2)\n",
    "\n",
    "classifier = RandomForestClassifier()\n",
    "\n",
    "classifier.fit(X_train, y_train)\n",
    "\n",
    "y_pred = classifier.predict(X_test)\n",
    "\n",
    "accuracy = accuracy_score(y_test, y_pred)\n",
    "print(\"Accuracy:\", accuracy)\n"
   ]
  },
  {
   "cell_type": "code",
   "execution_count": 2,
   "metadata": {},
   "outputs": [],
   "source": [
    "import pandas as pd\n",
    "\n",
    "df1 = pd.read_csv('clinical.cart.2024-02-01/clinical.tsv', sep='\\t')\n",
    "df2 = pd.read_csv('clinical.cart.2024-02-01/exposure.tsv', sep='\\t')\n",
    "\n",
    "df3 = df1.iloc[::2].copy() #every alternate rows are duplicates\n",
    "df3['treatment_or_therapy_2'] = df1.iloc[1::2]['treatment_or_therapy'].values\n",
    "df3['treatment_type_2'] = df1.iloc[1::2]['treatment_type'].values\n",
    "\n",
    "df3 = df3.drop(904) #patient with most data missing\n",
    "df2 = df2.drop(452)\n",
    "df3 = df3.reset_index(drop=True)\n",
    "df2 = df2.reset_index(drop=True)\n",
    "df3 = df3.drop(columns=df3.columns[df3.nunique() == 1]) #delete non-unique\n",
    "df2 = df2.drop(columns=df2.columns[df2.nunique() == 1])\n",
    "\n",
    "df3 = pd.concat([df3, df2.iloc[:, -4:]], axis=1)"
   ]
  },
  {
   "cell_type": "code",
   "execution_count": 3,
   "metadata": {},
   "outputs": [],
   "source": [
    "summary_df = pd.DataFrame({'Column Name': df3.columns,\n",
    "                           'Null Values': (df3 == \"'--\").sum(),\n",
    "                           'Unique Values': df3.apply(lambda col: col.unique())})\n",
    "\n",
    "\n",
    "summary_df.to_csv('clinical_summary.tsv', sep='\\t', index=False)"
   ]
  }
 ],
 "metadata": {
  "kernelspec": {
   "display_name": "Python 3",
   "language": "python",
   "name": "python3"
  },
  "language_info": {
   "codemirror_mode": {
    "name": "ipython",
    "version": 3
   },
   "file_extension": ".py",
   "mimetype": "text/x-python",
   "name": "python",
   "nbconvert_exporter": "python",
   "pygments_lexer": "ipython3",
   "version": "3.11.4"
  }
 },
 "nbformat": 4,
 "nbformat_minor": 2
}
